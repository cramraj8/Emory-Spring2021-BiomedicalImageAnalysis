{
 "cells": [
  {
   "cell_type": "markdown",
   "id": "voluntary-printing",
   "metadata": {},
   "source": [
    "# Q1"
   ]
  },
  {
   "cell_type": "code",
   "execution_count": null,
   "id": "desperate-colonial",
   "metadata": {},
   "outputs": [],
   "source": [
    "# * Differential (Non-Uniform) Scaling: E\n",
    "# * Reflection: G\n",
    "# * Rotation about the z-axis with non-uniform scaling: C\n",
    "# * Rotation about the y-axis with non-uniform scaling: H\n",
    "# * Translation Rotation about the x-axis\n",
    "# * Rotation about the y-axis\n",
    "# * Rotation about the z-axis\n",
    "# * Shearing along z with respect to the x-y plane (z=0 plane unchanged by shear)\n",
    "# * Shearing along x with respect to the y-z plane (x=0 plane unchanged by shear)\n",
    "# * Rotation about the x-axis and translation: I\n",
    "# * Uniform scaling Reflection with non-uniform scaling"
   ]
  },
  {
   "cell_type": "code",
   "execution_count": null,
   "id": "intellectual-tourist",
   "metadata": {},
   "outputs": [],
   "source": [
    "A: [translation] or Rotation about the x-axis and translation\n",
    "B: Translation Rotation about the x-axis\n",
    "C: Rotation about the z-axis\n",
    "D: [uniform scaling] or Uniform scaling Reflection with non-uniform scaling\n",
    "E: Differential (Non-Uniform) Scaling\n",
    "F: Shearing along z with respect to the x-y plane (z=0 plane unchanged by shear)\n",
    "G: Reflection\n",
    "H: Rotation about the y-axis\n",
    "I: Rotation about the x-axis and translation"
   ]
  },
  {
   "cell_type": "markdown",
   "id": "entertaining-notice",
   "metadata": {},
   "source": [
    "# Q2"
   ]
  },
  {
   "cell_type": "code",
   "execution_count": null,
   "id": "ethical-alarm",
   "metadata": {},
   "outputs": [],
   "source": [
    "(8, 6)"
   ]
  },
  {
   "cell_type": "markdown",
   "id": "southern-novelty",
   "metadata": {},
   "source": [
    "# Q3"
   ]
  },
  {
   "cell_type": "code",
   "execution_count": null,
   "id": "sustained-raise",
   "metadata": {},
   "outputs": [],
   "source": [
    "(5, 8)"
   ]
  },
  {
   "cell_type": "markdown",
   "id": "alternative-arcade",
   "metadata": {},
   "source": [
    "# Q4"
   ]
  },
  {
   "cell_type": "code",
   "execution_count": null,
   "id": "swedish-learning",
   "metadata": {},
   "outputs": [],
   "source": [
    "(3, 0)"
   ]
  },
  {
   "cell_type": "markdown",
   "id": "changed-government",
   "metadata": {},
   "source": [
    "# Q5"
   ]
  },
  {
   "cell_type": "code",
   "execution_count": null,
   "id": "manufactured-federal",
   "metadata": {},
   "outputs": [],
   "source": [
    "(8, 2)"
   ]
  }
 ],
 "metadata": {
  "kernelspec": {
   "display_name": "Python 3",
   "language": "python",
   "name": "python3"
  },
  "language_info": {
   "codemirror_mode": {
    "name": "ipython",
    "version": 3
   },
   "file_extension": ".py",
   "mimetype": "text/x-python",
   "name": "python",
   "nbconvert_exporter": "python",
   "pygments_lexer": "ipython3",
   "version": "3.8.6"
  }
 },
 "nbformat": 4,
 "nbformat_minor": 5
}
