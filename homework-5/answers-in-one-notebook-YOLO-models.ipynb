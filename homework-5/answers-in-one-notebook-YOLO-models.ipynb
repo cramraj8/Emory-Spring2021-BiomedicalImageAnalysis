{
 "cells": [
  {
   "cell_type": "code",
   "execution_count": 1,
   "id": "chubby-mauritius",
   "metadata": {},
   "outputs": [],
   "source": [
    "from ctypes import *\n",
    "import math\n",
    "import random\n",
    "\n",
    "def sample(probs):\n",
    "    s = sum(probs)\n",
    "    probs = [a/s for a in probs]\n",
    "    r = random.uniform(0, 1)\n",
    "    for i in range(len(probs)):\n",
    "        r = r - probs[i]\n",
    "        if r <= 0:\n",
    "            return i\n",
    "    return len(probs)-1\n",
    "\n",
    "def c_array(ctype, values):\n",
    "    arr = (ctype*len(values))()\n",
    "    arr[:] = values\n",
    "    return arr\n",
    "\n",
    "class BOX(Structure):\n",
    "    _fields_ = [(\"x\", c_float),\n",
    "                (\"y\", c_float),\n",
    "                (\"w\", c_float),\n",
    "                (\"h\", c_float)]\n",
    "\n",
    "class DETECTION(Structure):\n",
    "    _fields_ = [(\"bbox\", BOX),\n",
    "                (\"classes\", c_int),\n",
    "                (\"prob\", POINTER(c_float)),\n",
    "                (\"mask\", POINTER(c_float)),\n",
    "                (\"objectness\", c_float),\n",
    "                (\"sort_class\", c_int)]\n",
    "\n",
    "\n",
    "class IMAGE(Structure):\n",
    "    _fields_ = [(\"w\", c_int),\n",
    "                (\"h\", c_int),\n",
    "                (\"c\", c_int),\n",
    "                (\"data\", POINTER(c_float))]\n",
    "\n",
    "class METADATA(Structure):\n",
    "    _fields_ = [(\"classes\", c_int),\n",
    "                (\"names\", POINTER(c_char_p))]\n",
    "    \n",
    "#lib = CDLL(\"/home/pjreddie/documents/darknet/libdarknet.so\", RTLD_GLOBAL)\n",
    "lib = CDLL(\"/raid6/home/ramraj/ACADEMICS/BioImageAnalysis-2020Spring/darknet/libdarknet.so\", RTLD_GLOBAL)\n",
    "lib.network_width.argtypes = [c_void_p]\n",
    "lib.network_width.restype = c_int\n",
    "lib.network_height.argtypes = [c_void_p]\n",
    "lib.network_height.restype = c_int\n",
    "\n",
    "predict = lib.network_predict\n",
    "predict.argtypes = [c_void_p, POINTER(c_float)]\n",
    "predict.restype = POINTER(c_float)\n",
    "\n",
    "set_gpu = lib.cuda_set_device\n",
    "set_gpu.argtypes = [c_int]\n",
    "\n",
    "make_image = lib.make_image\n",
    "make_image.argtypes = [c_int, c_int, c_int]\n",
    "make_image.restype = IMAGE\n",
    "\n",
    "get_network_boxes = lib.get_network_boxes\n",
    "get_network_boxes.argtypes = [c_void_p, c_int, c_int, c_float, c_float, POINTER(c_int), c_int, POINTER(c_int)]\n",
    "get_network_boxes.restype = POINTER(DETECTION)\n",
    "\n",
    "make_network_boxes = lib.make_network_boxes\n",
    "make_network_boxes.argtypes = [c_void_p]\n",
    "make_network_boxes.restype = POINTER(DETECTION)\n",
    "\n",
    "free_detections = lib.free_detections\n",
    "free_detections.argtypes = [POINTER(DETECTION), c_int]\n",
    "\n",
    "free_ptrs = lib.free_ptrs\n",
    "free_ptrs.argtypes = [POINTER(c_void_p), c_int]\n",
    "\n",
    "network_predict = lib.network_predict\n",
    "network_predict.argtypes = [c_void_p, POINTER(c_float)]\n",
    "\n",
    "reset_rnn = lib.reset_rnn\n",
    "reset_rnn.argtypes = [c_void_p]\n",
    "\n",
    "load_net = lib.load_network\n",
    "load_net.argtypes = [c_char_p, c_char_p, c_int]\n",
    "load_net.restype = c_void_p\n",
    "\n",
    "do_nms_obj = lib.do_nms_obj\n",
    "do_nms_obj.argtypes = [POINTER(DETECTION), c_int, c_int, c_float]\n",
    "\n",
    "do_nms_sort = lib.do_nms_sort\n",
    "do_nms_sort.argtypes = [POINTER(DETECTION), c_int, c_int, c_float]\n",
    "\n",
    "free_image = lib.free_image\n",
    "free_image.argtypes = [IMAGE]\n",
    "\n",
    "letterbox_image = lib.letterbox_image\n",
    "letterbox_image.argtypes = [IMAGE, c_int, c_int]\n",
    "letterbox_image.restype = IMAGE\n",
    "\n",
    "load_meta = lib.get_metadata\n",
    "lib.get_metadata.argtypes = [c_char_p]\n",
    "lib.get_metadata.restype = METADATA\n",
    "\n",
    "load_image = lib.load_image_color\n",
    "load_image.argtypes = [c_char_p, c_int, c_int]\n",
    "load_image.restype = IMAGE\n",
    "\n",
    "rgbgr_image = lib.rgbgr_image\n",
    "rgbgr_image.argtypes = [IMAGE]\n",
    "\n",
    "predict_image = lib.network_predict_image\n",
    "predict_image.argtypes = [c_void_p, IMAGE]\n",
    "predict_image.restype = POINTER(c_float)"
   ]
  },
  {
   "cell_type": "code",
   "execution_count": 2,
   "id": "aggregate-duplicate",
   "metadata": {},
   "outputs": [],
   "source": [
    "def detect(net, meta, image, thresh=.5, hier_thresh=.5, nms=.45):\n",
    "    im = load_image(image, 0, 0)\n",
    "    num = c_int(0)\n",
    "    pnum = pointer(num)\n",
    "    predict_image(net, im)\n",
    "    dets = get_network_boxes(net, im.w, im.h, thresh, hier_thresh, None, 0, pnum)\n",
    "    num = pnum[0]\n",
    "    if (nms): do_nms_obj(dets, num, meta.classes, nms);\n",
    "\n",
    "    res = []\n",
    "    for j in range(num):\n",
    "        for i in range(meta.classes):\n",
    "            if dets[j].prob[i] > 0:\n",
    "                b = dets[j].bbox\n",
    "                res.append((meta.names[i], dets[j].prob[i], (b.x, b.y, b.w, b.h)))\n",
    "    res = sorted(res, key=lambda x: -x[1])\n",
    "    free_image(im)\n",
    "    free_detections(dets, num)\n",
    "    return res"
   ]
  },
  {
   "cell_type": "markdown",
   "id": "multiple-imagination",
   "metadata": {},
   "source": [
    "# Load YOLO-V2 trained on PASCAL-VOC"
   ]
  },
  {
   "cell_type": "code",
   "execution_count": 3,
   "id": "sacred-method",
   "metadata": {},
   "outputs": [
    {
     "name": "stdout",
     "output_type": "stream",
     "text": [
      "[(b'dog', 0.908364474773407, (226.09542846679688, 365.95867919921875, 186.68927001953125, 294.5250244140625)), (b'car', 0.8651756048202515, (578.2688598632812, 121.9164047241211, 232.78802490234375, 97.83444213867188)), (b'bicycle', 0.814599335193634, (334.7672119140625, 250.7566680908203, 486.9348449707031, 323.4674377441406))]\n"
     ]
    }
   ],
   "source": [
    "# # net = load_net(b\"cfg/yolov3.cfg\", b\"yolov3.weights\", 0)\n",
    "# net = load_net(b\"cfg/yolov2-voc.cfg\", b\"yolov2.weights\", 0)\n",
    "# meta = load_meta(b\"cfg/voc.data\")\n",
    "\n",
    "net = load_net(b\"cfg/yolov2-voc.cfg\", b\"yolov2-voc.weights\", 0)\n",
    "meta = load_meta(b\"cfg/voc.data\")\n",
    "r = detect(net, meta, b\"data/dog.jpg\")\n",
    "print(r)"
   ]
  },
  {
   "cell_type": "markdown",
   "id": "about-theater",
   "metadata": {},
   "source": [
    "# Predict"
   ]
  },
  {
   "cell_type": "code",
   "execution_count": 59,
   "id": "recent-miami",
   "metadata": {},
   "outputs": [],
   "source": [
    "import xml.etree.ElementTree as ET\n",
    "import matplotlib.pyplot as plt\n",
    "from matplotlib.patches import Rectangle\n",
    "from PIL import Image\n",
    "from scipy.optimize import linear_sum_assignment\n",
    "from collections import defaultdict\n",
    "import os\n",
    "import time\n",
    "import datetime"
   ]
  },
  {
   "cell_type": "code",
   "execution_count": 60,
   "id": "foreign-classic",
   "metadata": {},
   "outputs": [
    {
     "name": "stdout",
     "output_type": "stream",
     "text": [
      "5105\n"
     ]
    }
   ],
   "source": [
    "IMAGE_DIR = \"/raid6/home/ramraj/ACADEMICS/BioImageAnalysis-2020Spring/VOCdevkit/VOC2010/JPEGImages/\"\n",
    "\n",
    "ANNOT_DIR = \"/raid6/home/ramraj/ACADEMICS/BioImageAnalysis-2020Spring/VOCdevkit/VOC2010/Annotations/\"\n",
    "\n",
    "classes = [\"aeroplane\", \"bicycle\", \"bird\", \"boat\", \"bottle\", \"bus\", \"car\", \"cat\", \"chair\", \"cow\", \"diningtable\", \"dog\", \"horse\", \"motorbike\", \"person\", \"pottedplant\", \"sheep\", \"sofa\", \"train\", \"tvmonitor\"]\n",
    "\n",
    "\n",
    "# val_image_file = \"/raid6/home/ramraj/ACADEMICS/BioImageAnalysis-2020Spring/VOCdevkit/VOC2010/ImageSets/Layout/val.txt\"\n",
    "val_image_file = \"/raid6/home/ramraj/ACADEMICS/BioImageAnalysis-2020Spring/VOCdevkit/VOC2010/ImageSets/Main/val.txt\"\n",
    "\n",
    "val_image_list_data = open(val_image_file, 'r').read().strip().split('\\n')\n",
    "# val_image_list = [e.split(' ')[0] for e in val_image_list_data]\n",
    "val_image_list = [e for e in val_image_list_data]\n",
    "print(len(val_image_list))\n",
    "\n",
    "THRESH_IOU = 0.5\n",
    "\n",
    "def format_time(elapsed_time):\n",
    "    \"\"\"\n",
    "    Takes a time in seconds and returns a string hh:mm:ss\n",
    "    \"\"\"\n",
    "    # Round to the nearest second.\n",
    "    elapsed_rounded = int(round((elapsed_time)))\n",
    "    return str(datetime.timedelta(seconds=elapsed_rounded)) # Format as hh:mm:ss"
   ]
  },
  {
   "cell_type": "code",
   "execution_count": 64,
   "id": "respective-arcade",
   "metadata": {
    "scrolled": true
   },
   "outputs": [
    {
     "name": "stdout",
     "output_type": "stream",
     "text": [
      "Finished :  0\n",
      "Finished :  500\n",
      "Finished :  1000\n",
      "Finished :  1500\n",
      "Finished :  2000\n",
      "Finished :  2500\n",
      "Finished :  3000\n",
      "Finished :  3500\n",
      "Finished :  4000\n",
      "Finished :  4500\n",
      "Finished :  5000\n",
      "Total time took 0:02:14 (h:mm:ss) for 5105 number of images\n"
     ]
    }
   ],
   "source": [
    "yolo2_outputs_all = defaultdict()\n",
    "\n",
    "time_list = []\n",
    "time_formatted_list = []\n",
    "\n",
    "total_t0 = time.time()\n",
    "\n",
    "for idx, img_name in enumerate(val_image_list):\n",
    "    t0 = time.time()\n",
    "    \n",
    "    img_path = os.path.join(IMAGE_DIR, \"%s.jpg\" % img_name)\n",
    "    img_path = bytes(img_path, 'utf-8')\n",
    "    \n",
    "    r = detect(net, meta, img_path)\n",
    "    yolo2_outputs_all[img_name] = r\n",
    "        \n",
    "    t1 = time.time() - t0\n",
    "    t1f = format_time(t1)\n",
    "    time_list.append(t1)\n",
    "    time_formatted_list.append(t1f)\n",
    "    \n",
    "    if idx % 500 == 0: print(\"Finished : \", idx)\n",
    "\n",
    "        \n",
    "print(\"Total time took {:} (h:mm:ss) for {} number of images\".format(format_time(time.time() - total_t0), len(val_image_list)))"
   ]
  },
  {
   "cell_type": "code",
   "execution_count": 66,
   "id": "unlikely-campaign",
   "metadata": {},
   "outputs": [
    {
     "data": {
      "text/plain": [
       "([0.05211758613586426,\n",
       "  0.029529094696044922,\n",
       "  0.029924631118774414,\n",
       "  0.03239130973815918,\n",
       "  0.030046701431274414,\n",
       "  0.030774354934692383,\n",
       "  0.030102252960205078,\n",
       "  0.0327911376953125,\n",
       "  0.032057762145996094,\n",
       "  0.027157306671142578],\n",
       " ['0:00:00',\n",
       "  '0:00:00',\n",
       "  '0:00:00',\n",
       "  '0:00:00',\n",
       "  '0:00:00',\n",
       "  '0:00:00',\n",
       "  '0:00:00',\n",
       "  '0:00:00',\n",
       "  '0:00:00',\n",
       "  '0:00:00'])"
      ]
     },
     "execution_count": 66,
     "metadata": {},
     "output_type": "execute_result"
    }
   ],
   "source": [
    "time_list[:10], time_formatted_list[:10]"
   ]
  },
  {
   "cell_type": "code",
   "execution_count": 68,
   "id": "returning-greeting",
   "metadata": {},
   "outputs": [
    {
     "data": {
      "text/plain": [
       "({'aeroplane',\n",
       "  'bicycle',\n",
       "  'bird',\n",
       "  'boat',\n",
       "  'bottle',\n",
       "  'bus',\n",
       "  'car',\n",
       "  'cat',\n",
       "  'chair',\n",
       "  'cow',\n",
       "  'diningtable',\n",
       "  'dog',\n",
       "  'horse',\n",
       "  'motorbike',\n",
       "  'person',\n",
       "  'pottedplant',\n",
       "  'sheep',\n",
       "  'sofa',\n",
       "  'train',\n",
       "  'tvmonitor'},\n",
       " 20)"
      ]
     },
     "execution_count": 68,
     "metadata": {},
     "output_type": "execute_result"
    }
   ],
   "source": [
    "preds_map = defaultdict()\n",
    "\n",
    "pred_class_set = set()\n",
    "\n",
    "for img_id, yolo_res in yolo2_outputs_all.items():\n",
    "    \n",
    "    pred_class_objs_map = defaultdict(list)\n",
    "    \n",
    "    for obj in yolo_res:\n",
    "        clss_name = obj[0].decode(\"utf-8\") \n",
    "        bbox = obj[2] # [X, Y, width, height]\n",
    "        \n",
    "        reformatted_box = [bbox[0] - int(bbox[2]/2), bbox[1] - int(bbox[3]/2), bbox[2], bbox[3]]\n",
    "        pred_class_objs_map[clss_name].append(reformatted_box)\n",
    "        pred_class_set.add(clss_name)\n",
    "    \n",
    "    preds_map[img_id] = pred_class_objs_map\n",
    "    \n",
    "# 2008_000223\n",
    "pred_class_set, len(pred_class_set)"
   ]
  },
  {
   "cell_type": "markdown",
   "id": "aggressive-parent",
   "metadata": {},
   "source": [
    "# Read Ground truth data (bounding boxes)"
   ]
  },
  {
   "cell_type": "code",
   "execution_count": 69,
   "id": "fatal-monster",
   "metadata": {},
   "outputs": [
    {
     "data": {
      "text/plain": [
       "defaultdict(list, {'person': [[229, 99, 89, 212]]})"
      ]
     },
     "execution_count": 69,
     "metadata": {},
     "output_type": "execute_result"
    }
   ],
   "source": [
    "def load_ground_truth(image_id):\n",
    "    \n",
    "    annot_path = os.path.join(ANNOT_DIR, \"%s.xml\" % image_id)\n",
    "    \n",
    "    tree=ET.parse(annot_path)\n",
    "    root = tree.getroot()\n",
    "    \n",
    "    size = root.find('size')\n",
    "    w = int(size.find('width').text)\n",
    "    h = int(size.find('height').text)\n",
    "    \n",
    "    return_class_objs_map = defaultdict(list)\n",
    "    \n",
    "    cnt = 0\n",
    "    for obj in root.iter('object'):\n",
    "        difficult = obj.find('difficult').text\n",
    "        cls = obj.find('name').text\n",
    "        if cls not in classes or int(difficult)==1:\n",
    "            continue\n",
    "        # cls_id = classes.index(cls)\n",
    "        xmlbox = obj.find('bndbox')\n",
    "        \n",
    "        x_min = int( float(xmlbox.find('xmin').text) )\n",
    "        x_max = int( float(xmlbox.find('xmax').text) )\n",
    "        y_min = int( float(xmlbox.find('ymin').text) )\n",
    "        y_max = int( float(xmlbox.find('ymax').text) )\n",
    "        \n",
    "        # return_class_objs_map[cls].append([x_min, y_min, x_max, y_max])\n",
    "        return_class_objs_map[cls].append([x_min, y_min, x_max-x_min, y_max-y_min])\n",
    "        cnt += 1\n",
    "    # print(cnt)\n",
    "        \n",
    "    \n",
    "    return return_class_objs_map\n",
    "\n",
    "load_ground_truth('2008_000223')"
   ]
  },
  {
   "cell_type": "code",
   "execution_count": 71,
   "id": "induced-anthony",
   "metadata": {},
   "outputs": [
    {
     "data": {
      "text/plain": [
       "({'aeroplane',\n",
       "  'bicycle',\n",
       "  'bird',\n",
       "  'boat',\n",
       "  'bottle',\n",
       "  'bus',\n",
       "  'car',\n",
       "  'cat',\n",
       "  'chair',\n",
       "  'cow',\n",
       "  'diningtable',\n",
       "  'dog',\n",
       "  'horse',\n",
       "  'motorbike',\n",
       "  'person',\n",
       "  'pottedplant',\n",
       "  'sheep',\n",
       "  'sofa',\n",
       "  'train',\n",
       "  'tvmonitor'},\n",
       " 20)"
      ]
     },
     "execution_count": 71,
     "metadata": {},
     "output_type": "execute_result"
    }
   ],
   "source": [
    "gt_classes = set()\n",
    "for img_id in val_image_list:\n",
    "\n",
    "    gt_info = load_ground_truth(img_id)\n",
    "    \n",
    "    for e in gt_info:\n",
    "        gt_classes.add(e)\n",
    "\n",
    "gt_classes, len(gt_classes)"
   ]
  },
  {
   "cell_type": "markdown",
   "id": "promotional-clone",
   "metadata": {},
   "source": [
    "# Visualize & verify"
   ]
  },
  {
   "cell_type": "code",
   "execution_count": 74,
   "id": "faced-shanghai",
   "metadata": {},
   "outputs": [
    {
     "data": {
      "text/plain": [
       "('2008_000407',\n",
       " defaultdict(list, {'person': [[54, 151, 277, 349], [75, 74, 211, 333]]}),\n",
       " defaultdict(list,\n",
       "             {'person': [[64.58906555175781,\n",
       "                128.82461547851562,\n",
       "                249.35028076171875,\n",
       "                375.7963562011719]]}))"
      ]
     },
     "execution_count": 74,
     "metadata": {},
     "output_type": "execute_result"
    }
   ],
   "source": [
    "dummy_val_image_file = \"/raid6/home/ramraj/ACADEMICS/BioImageAnalysis-2020Spring/VOCdevkit/VOC2010/ImageSets/Layout/val.txt\"\n",
    "\n",
    "dummy_val_image_list_data = open(dummy_val_image_file, 'r').read().strip().split('\\n')\n",
    "dummy_val_image_list = [e.split(' ')[0] for e in dummy_val_image_list_data]\n",
    "\n",
    "dummy_val_image_list[1], load_ground_truth(dummy_val_image_list[1]), preds_map[dummy_val_image_list[1]]\n"
   ]
  },
  {
   "cell_type": "code",
   "execution_count": 75,
   "id": "abstract-seeking",
   "metadata": {},
   "outputs": [
    {
     "name": "stdout",
     "output_type": "stream",
     "text": [
      "/raid6/home/ramraj/ACADEMICS/BioImageAnalysis-2020Spring/VOCdevkit/VOC2010/JPEGImages/2008_000407.jpg\n"
     ]
    },
    {
     "data": {
      "text/plain": [
       "<matplotlib.patches.Rectangle at 0x7fbda0714c40>"
      ]
     },
     "execution_count": 75,
     "metadata": {},
     "output_type": "execute_result"
    },
    {
     "data": {
      "image/png": "[encoded data removed]",
      "text/plain": [
       "<Figure size 432x288 with 1 Axes>"
      ]
     },
     "metadata": {
      "needs_background": "light"
     },
     "output_type": "display_data"
    }
   ],
   "source": [
    "example_img = IMAGE_DIR + \"%s.jpg\" % dummy_val_image_list[1]\n",
    "print(example_img)\n",
    "\n",
    "plt.imshow(Image.open(example_img))\n",
    "\n",
    "# plt.gca().add_patch(Rectangle((54,151),331-54,500-151,linewidth=1,edgecolor='r',facecolor='none'))\n",
    "plt.gca().add_patch(Rectangle((54,151),277,349,linewidth=1,edgecolor='r',facecolor='none'))\n",
    "# plt.gca().add_patch(Rectangle((188 - (249/2),315-(375/2)),249,375,linewidth=1,edgecolor='g',facecolor='none'))\n",
    "plt.gca().add_patch(Rectangle((64, 128),249,375,linewidth=1,edgecolor='g',facecolor='none'))\n"
   ]
  },
  {
   "cell_type": "markdown",
   "id": "appreciated-valve",
   "metadata": {},
   "source": [
    "# Define IoU"
   ]
  },
  {
   "cell_type": "code",
   "execution_count": 77,
   "id": "academic-wheel",
   "metadata": {},
   "outputs": [
    {
     "data": {
      "text/plain": [
       "(0.8424966310217457, 86901, 103147)"
      ]
     },
     "execution_count": 77,
     "metadata": {},
     "output_type": "execute_result"
    }
   ],
   "source": [
    "def intersection_over_union(gt_box, pred_box):\n",
    "    inter_box_top_left = [max(gt_box[0], pred_box[0]), max(gt_box[1], pred_box[1])]\n",
    "    inter_box_bottom_right = [min(gt_box[0]+gt_box[2], pred_box[0]+pred_box[2]), min(gt_box[1]+gt_box[3], pred_box[1]+pred_box[3])]\n",
    "\n",
    "    inter_box_w = inter_box_bottom_right[0] - inter_box_top_left[0]\n",
    "    inter_box_h = inter_box_bottom_right[1] - inter_box_top_left[1]\n",
    "\n",
    "    intersection = inter_box_w * inter_box_h\n",
    "    union = gt_box[2] * gt_box[3] + pred_box[2] * pred_box[3] - intersection\n",
    "    \n",
    "    iou = intersection / union\n",
    "\n",
    "    return iou, intersection, union\n",
    "\n",
    "\n",
    "# intersection_over_union([54, 151, 331-54,500-151], [188 - (249/2), 315-(375/2),249,375])\n",
    "\n",
    "intersection_over_union([54,151,277,349], [64, 128,249,375])"
   ]
  },
  {
   "cell_type": "markdown",
   "id": "measured-dressing",
   "metadata": {},
   "source": [
    "# Define mAP"
   ]
  },
  {
   "cell_type": "code",
   "execution_count": 81,
   "id": "ruled-fence",
   "metadata": {},
   "outputs": [
    {
     "name": "stdout",
     "output_type": "stream",
     "text": [
      "precision for class aeroplane :  0.9969418960244648\n",
      "precision for class bicycle :  0.9890510948905109\n",
      "precision for class bird :  0.9975490196078431\n",
      "precision for class boat :  0.9678714859437751\n",
      "precision for class bottle :  0.9483282674772037\n",
      "precision for class bus :  0.9778761061946902\n",
      "precision for class car :  0.9746268656716418\n",
      "precision for class cat :  0.996309963099631\n",
      "precision for class chair :  0.9666666666666667\n",
      "precision for class cow :  0.9759615384615384\n",
      "precision for class diningtable :  0.9067357512953368\n",
      "precision for class dog :  0.9925595238095238\n",
      "precision for class horse :  0.9896551724137931\n",
      "precision for class motorbike :  0.9920948616600791\n",
      "precision for class person :  0.9755062050947093\n",
      "precision for class pottedplant :  0.9622641509433962\n",
      "precision for class sheep :  0.9688473520249221\n",
      "precision for class sofa :  0.946524064171123\n",
      "precision for class train :  0.9795081967213115\n",
      "precision for class tvmonitor :  0.9526813880126183\n",
      "Total time took 0:00:12 (h:mm:ss) for 5105 evaluating number of images\n"
     ]
    }
   ],
   "source": [
    "precision_list = []\n",
    "\n",
    "eval_total_t0 = time.time()\n",
    "    \n",
    "for clss in classes:\n",
    "    \n",
    "    TP, FP, FN = 0, 0, 0\n",
    "\n",
    "    for img_id in val_image_list:\n",
    "\n",
    "        gt_dict = load_ground_truth(img_id)[clss]\n",
    "        pred_dict = preds_map[img_id][clss]        \n",
    "\n",
    "        gt_map_pred = defaultdict()\n",
    "        \n",
    "        for gt_idx, gt_box in enumerate(gt_dict):\n",
    "            found_gt = False\n",
    "\n",
    "            for pred_idx, pred_box in enumerate(pred_dict):\n",
    "  \n",
    "                iou_score, _, _ = intersection_over_union(pred_box, gt_box)\n",
    "\n",
    "                if (iou_score >= THRESH_IOU) and (gt_map_pred.get(gt_idx) == None):\n",
    "                    found_gt = True\n",
    "                    gt_map_pred[gt_idx] = pred_idx\n",
    "                    break\n",
    "                    \n",
    "                elif (iou_score >= THRESH_IOU) and (gt_map_pred.get(gt_idx) != None):\n",
    "                    FP += 1\n",
    "                    \n",
    "            if found_gt:\n",
    "                TP += 1\n",
    "            else:\n",
    "                FN += 1\n",
    "        \n",
    "                \n",
    "        if len(pred_dict) > len(gt_dict):\n",
    "            FP += len(pred_dict) - len(gt_dict)\n",
    "        \n",
    "    clss_precision = TP / (FP + TP)\n",
    "    print(\"precision for class %s : \" % clss, clss_precision)\n",
    "    precision_list.append(clss_precision)    \n",
    "        \n",
    "print(\"Total time took {:} (h:mm:ss) for {} evaluating number of images\".format(format_time(time.time() - eval_total_t0), len(val_image_list)))\n",
    "\n"
   ]
  },
  {
   "cell_type": "code",
   "execution_count": 82,
   "id": "provincial-fellowship",
   "metadata": {},
   "outputs": [
    {
     "name": "stdout",
     "output_type": "stream",
     "text": [
      "mean Average Precision across 20 :  0.9728779785092388\n"
     ]
    }
   ],
   "source": [
    "mean_average_precision = sum(precision_list) / len(precision_list)\n",
    "print(\"mean Average Precision across %s : \" % len(precision_list), mean_average_precision)"
   ]
  },
  {
   "cell_type": "markdown",
   "id": "voluntary-cooper",
   "metadata": {},
   "source": [
    "# YOLO-v2\n",
    "\n",
    "# prediction time: 0:02:14 (h:mm:ss) for 5105 images\n",
    "# mean_average_precision: 0.9729\n",
    "# evaluation time: 0:00:12 (h:mm:ss) for 5105 images"
   ]
  },
  {
   "cell_type": "markdown",
   "id": "brazilian-vocabulary",
   "metadata": {},
   "source": [
    "# Do above for Tiny-YOLO"
   ]
  },
  {
   "cell_type": "code",
   "execution_count": 85,
   "id": "sublime-specification",
   "metadata": {},
   "outputs": [
    {
     "name": "stdout",
     "output_type": "stream",
     "text": [
      "[(b'dog', 0.7836664319038391, (216.7544403076172, 393.0237121582031, 256.93585205078125, 325.7980651855469)), (b'car', 0.5504213571548462, (502.99591064453125, 114.58039855957031, 115.98053741455078, 95.33751678466797)), (b'car', 0.5050010085105896, (560.6170654296875, 130.3031005859375, 217.85064697265625, 131.02023315429688))]\n"
     ]
    }
   ],
   "source": [
    "net = load_net(b\"cfg/yolov2-tiny-voc.cfg\", b\"yolov2-tiny-voc.weights\", 0)\n",
    "meta = load_meta(b\"cfg/voc.data\")\n",
    "r = detect(net, meta, b\"data/dog.jpg\")\n",
    "print(r)"
   ]
  },
  {
   "cell_type": "markdown",
   "id": "perceived-earthquake",
   "metadata": {},
   "source": [
    "# Predict on Tiny YOLO2"
   ]
  },
  {
   "cell_type": "code",
   "execution_count": 86,
   "id": "devoted-groove",
   "metadata": {},
   "outputs": [
    {
     "name": "stdout",
     "output_type": "stream",
     "text": [
      "Finished :  0\n",
      "Finished :  500\n",
      "Finished :  1000\n",
      "Finished :  1500\n",
      "Finished :  2000\n",
      "Finished :  2500\n",
      "Finished :  3000\n",
      "Finished :  3500\n",
      "Finished :  4000\n",
      "Finished :  4500\n",
      "Finished :  5000\n",
      "Total time took 0:01:48 (h:mm:ss) for 5105 number of images\n"
     ]
    }
   ],
   "source": [
    "tiny_yolo2_outputs_all = defaultdict()\n",
    "\n",
    "time_list = []\n",
    "time_formatted_list = []\n",
    "\n",
    "total_t0 = time.time()\n",
    "\n",
    "for idx, img_name in enumerate(val_image_list):\n",
    "    t0 = time.time()\n",
    "    \n",
    "    img_path = os.path.join(IMAGE_DIR, \"%s.jpg\" % img_name)\n",
    "    img_path = bytes(img_path, 'utf-8')\n",
    "    \n",
    "    r = detect(net, meta, img_path)\n",
    "    tiny_yolo2_outputs_all[img_name] = r\n",
    "        \n",
    "    t1 = time.time() - t0\n",
    "    t1f = format_time(t1)\n",
    "    time_list.append(t1)\n",
    "    time_formatted_list.append(t1f)\n",
    "    \n",
    "    if idx % 500 == 0: print(\"Finished : \", idx)\n",
    "\n",
    "        \n",
    "print(\"Total time took {:} (h:mm:ss) for {} number of images\".format(format_time(time.time() - total_t0), len(val_image_list)))"
   ]
  },
  {
   "cell_type": "code",
   "execution_count": 87,
   "id": "dressed-conditions",
   "metadata": {},
   "outputs": [
    {
     "data": {
      "text/plain": [
       "([0.061249494552612305,\n",
       "  0.02295684814453125,\n",
       "  0.024051427841186523,\n",
       "  0.02530837059020996,\n",
       "  0.023323774337768555,\n",
       "  0.024182796478271484,\n",
       "  0.02357196807861328,\n",
       "  0.026470661163330078,\n",
       "  0.023108243942260742,\n",
       "  0.0204010009765625],\n",
       " ['0:00:00',\n",
       "  '0:00:00',\n",
       "  '0:00:00',\n",
       "  '0:00:00',\n",
       "  '0:00:00',\n",
       "  '0:00:00',\n",
       "  '0:00:00',\n",
       "  '0:00:00',\n",
       "  '0:00:00',\n",
       "  '0:00:00'])"
      ]
     },
     "execution_count": 87,
     "metadata": {},
     "output_type": "execute_result"
    }
   ],
   "source": [
    "time_list[:10], time_formatted_list[:10]"
   ]
  },
  {
   "cell_type": "code",
   "execution_count": 88,
   "id": "studied-amazon",
   "metadata": {},
   "outputs": [
    {
     "data": {
      "text/plain": [
       "({'aeroplane',\n",
       "  'bicycle',\n",
       "  'bird',\n",
       "  'boat',\n",
       "  'bottle',\n",
       "  'bus',\n",
       "  'car',\n",
       "  'cat',\n",
       "  'chair',\n",
       "  'cow',\n",
       "  'diningtable',\n",
       "  'dog',\n",
       "  'horse',\n",
       "  'motorbike',\n",
       "  'person',\n",
       "  'pottedplant',\n",
       "  'sheep',\n",
       "  'sofa',\n",
       "  'train',\n",
       "  'tvmonitor'},\n",
       " 20)"
      ]
     },
     "execution_count": 88,
     "metadata": {},
     "output_type": "execute_result"
    }
   ],
   "source": [
    "tiny_yolo_preds_map = defaultdict()\n",
    "\n",
    "pred_class_set = set()\n",
    "\n",
    "for img_id, yolo_res in tiny_yolo2_outputs_all.items():\n",
    "    \n",
    "    pred_class_objs_map = defaultdict(list)\n",
    "    \n",
    "    for obj in yolo_res:\n",
    "        clss_name = obj[0].decode(\"utf-8\") \n",
    "        bbox = obj[2] # [X, Y, width, height]\n",
    "\n",
    "        reformatted_box = [bbox[0] - int(bbox[2]/2), bbox[1] - int(bbox[3]/2), bbox[2], bbox[3]]\n",
    "        pred_class_objs_map[clss_name].append(reformatted_box)\n",
    "        pred_class_set.add(clss_name)\n",
    "    \n",
    "    tiny_yolo_preds_map[img_id] = pred_class_objs_map\n",
    "    \n",
    "# 2008_000223\n",
    "pred_class_set, len(pred_class_set)"
   ]
  },
  {
   "cell_type": "markdown",
   "id": "advisory-insert",
   "metadata": {},
   "source": [
    "# Apply mAP on Tiny YOLO"
   ]
  },
  {
   "cell_type": "code",
   "execution_count": 89,
   "id": "daily-painting",
   "metadata": {},
   "outputs": [
    {
     "name": "stdout",
     "output_type": "stream",
     "text": [
      "precision for class aeroplane :  0.9862385321100917\n",
      "precision for class bicycle :  0.9887640449438202\n",
      "precision for class bird :  0.9919354838709677\n",
      "precision for class boat :  0.9680851063829787\n",
      "precision for class bottle :  0.9754098360655737\n",
      "precision for class bus :  0.9868421052631579\n",
      "precision for class car :  0.9699453551912568\n",
      "precision for class cat :  0.9868421052631579\n",
      "precision for class chair :  0.9628378378378378\n",
      "precision for class cow :  0.9716312056737588\n",
      "precision for class diningtable :  0.9344262295081968\n",
      "precision for class dog :  0.9883177570093458\n",
      "precision for class horse :  0.9906542056074766\n",
      "precision for class motorbike :  1.0\n",
      "precision for class person :  0.9850993377483444\n",
      "precision for class pottedplant :  0.9514563106796117\n",
      "precision for class sheep :  0.9790575916230366\n",
      "precision for class sofa :  0.9532710280373832\n",
      "precision for class train :  0.9925373134328358\n",
      "precision for class tvmonitor :  0.9314285714285714\n",
      "Total time took 0:00:13 (h:mm:ss) for 5105 evaluating number of images\n"
     ]
    }
   ],
   "source": [
    "tiny_yolo_precision_list = []\n",
    "\n",
    "eval_total_t0 = time.time()\n",
    "    \n",
    "for clss in classes:\n",
    "    \n",
    "    TP, FP, FN = 0, 0, 0\n",
    "\n",
    "    for img_id in val_image_list:\n",
    "\n",
    "        gt_dict = load_ground_truth(img_id)[clss]\n",
    "        pred_dict = tiny_yolo_preds_map[img_id][clss]        \n",
    "\n",
    "        gt_map_pred = defaultdict()\n",
    "        \n",
    "        for gt_idx, gt_box in enumerate(gt_dict):\n",
    "            found_gt = False\n",
    "\n",
    "            for pred_idx, pred_box in enumerate(pred_dict):\n",
    "  \n",
    "                iou_score, _, _ = intersection_over_union(pred_box, gt_box)\n",
    "\n",
    "                if (iou_score >= THRESH_IOU) and (gt_map_pred.get(gt_idx) == None):\n",
    "                    found_gt = True\n",
    "                    gt_map_pred[gt_idx] = pred_idx\n",
    "                    break\n",
    "                    \n",
    "                elif (iou_score >= THRESH_IOU) and (gt_map_pred.get(gt_idx) != None):\n",
    "                    FP += 1\n",
    "                    \n",
    "            if found_gt:\n",
    "                TP += 1\n",
    "            else:\n",
    "                FN += 1\n",
    "        \n",
    "                \n",
    "        if len(pred_dict) > len(gt_dict):\n",
    "            FP += len(pred_dict) - len(gt_dict)\n",
    "        \n",
    "    clss_precision = TP / (FP + TP)\n",
    "    print(\"precision for class %s : \" % clss, clss_precision)\n",
    "    tiny_yolo_precision_list.append(clss_precision)    \n",
    "        \n",
    "print(\"Total time took {:} (h:mm:ss) for {} evaluating number of images\".format(format_time(time.time() - eval_total_t0), len(val_image_list)))\n",
    "\n",
    "\n"
   ]
  },
  {
   "cell_type": "code",
   "execution_count": 90,
   "id": "worthy-place",
   "metadata": {},
   "outputs": [
    {
     "name": "stdout",
     "output_type": "stream",
     "text": [
      "mean Average Precision across 20 :  0.9747389978838706\n"
     ]
    }
   ],
   "source": [
    "tiny_yolo_mean_average_precision = sum(tiny_yolo_precision_list) / len(tiny_yolo_precision_list)\n",
    "print(\"mean Average Precision across %s : \" % len(tiny_yolo_precision_list), tiny_yolo_mean_average_precision)"
   ]
  },
  {
   "cell_type": "markdown",
   "id": "unexpected-surgery",
   "metadata": {},
   "source": [
    "# Tiny-YOLO-v2\n",
    "\n",
    "# prediction time: 0:01:48 (h:mm:ss) for 5105 images\n",
    "# mean_average_precision: 0.9747\n",
    "# evaluation time: 0:00:13 (h:mm:ss) for 5105 images"
   ]
  },
  {
   "cell_type": "code",
   "execution_count": null,
   "id": "split-cradle",
   "metadata": {},
   "outputs": [],
   "source": [
    "# with open(\"observations.txt\", 'w') as f:\n",
    "#     f.write(\"YOLO-v2\")\n",
    "    "
   ]
  },
  {
   "cell_type": "code",
   "execution_count": null,
   "id": "unsigned-battle",
   "metadata": {},
   "outputs": [],
   "source": []
  }
 ],
 "metadata": {
  "kernelspec": {
   "display_name": "Python 3",
   "language": "python",
   "name": "python3"
  },
  "language_info": {
   "codemirror_mode": {
    "name": "ipython",
    "version": 3
   },
   "file_extension": ".py",
   "mimetype": "text/x-python",
   "name": "python",
   "nbconvert_exporter": "python",
   "pygments_lexer": "ipython3",
   "version": "3.8.8"
  }
 },
 "nbformat": 4,
 "nbformat_minor": 5
}
